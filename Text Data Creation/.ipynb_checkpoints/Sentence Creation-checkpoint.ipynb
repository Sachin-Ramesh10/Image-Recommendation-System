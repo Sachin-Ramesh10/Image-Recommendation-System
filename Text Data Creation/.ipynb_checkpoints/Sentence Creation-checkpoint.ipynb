{
 "cells": [
  {
   "cell_type": "code",
   "execution_count": 10,
   "metadata": {},
   "outputs": [],
   "source": [
    "import requests\n",
    "from bs4 import BeautifulSoup\n",
    "import csv\n",
    "\n",
    "##extracting class related senetences from website and saving sentences in text.csv"
   ]
  },
  {
   "cell_type": "code",
   "execution_count": 11,
   "metadata": {},
   "outputs": [],
   "source": [
    "with open('urls.csv', mode='r') as infile:\n",
    "    reader = csv.reader(infile)\n",
    "    mydict = {rows[0]:rows[1] for rows in reader}"
   ]
  },
  {
   "cell_type": "code",
   "execution_count": 12,
   "metadata": {},
   "outputs": [],
   "source": [
    "for i in list(mydict.keys()):\n",
    "    link = mydict[i]\n",
    "    cla = i\n",
    "    text = []\n",
    "\n",
    "    if \"sentence\" in link:\n",
    "\n",
    "        html = requests.get(link).text\n",
    "\n",
    "        soup = BeautifulSoup(html,\"lxml\")\n",
    "        a = soup.find_all('li',{\"class\":\"voting_li\"})\n",
    "\n",
    "        for i in range(len(a)):\n",
    "            text.append(a[i].get_text())\n",
    "    else:\n",
    "\n",
    "        html = requests.get(link).text\n",
    "\n",
    "        soup = BeautifulSoup(html,\"lxml\")\n",
    "\n",
    "        a = soup.find_all('li')\n",
    "\n",
    "        for j in range(len(a)):\n",
    "            if \"<sub>\" in str(a[j]):\n",
    "                t= a[j].get_text().split(\".\")[:-1]\n",
    "                t = \".\".join(t)\n",
    "                text.append(t)\n",
    "                \n",
    "    if len(text) > 60:\n",
    "        text = text[:60]\n",
    "    for b in text:\n",
    "        with open('text.csv', 'a', newline='', encoding= 'utf-8') as csvfile:\n",
    "            fieldnames = ['Class', 'Sentence']\n",
    "            writer = csv.DictWriter(csvfile, fieldnames=fieldnames)\n",
    "            writer.writerow({'Class': cla, 'Sentence': b})"
   ]
  },
  {
   "cell_type": "code",
   "execution_count": null,
   "metadata": {},
   "outputs": [],
   "source": []
  }
 ],
 "metadata": {
  "kernelspec": {
   "display_name": "Python 3",
   "language": "python",
   "name": "python3"
  },
  "language_info": {
   "codemirror_mode": {
    "name": "ipython",
    "version": 3
   },
   "file_extension": ".py",
   "mimetype": "text/x-python",
   "name": "python",
   "nbconvert_exporter": "python",
   "pygments_lexer": "ipython3",
   "version": "3.6.2"
  }
 },
 "nbformat": 4,
 "nbformat_minor": 2
}
