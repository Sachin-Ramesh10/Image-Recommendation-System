{
 "cells": [
  {
   "cell_type": "code",
   "execution_count": 1,
   "metadata": {},
   "outputs": [],
   "source": [
    "#restructuring for uniform size\n",
    "\n",
    "from glob import glob\n",
    "\n",
    "Train_paths = glob('F:/Final_Data/Train/*')\n"
   ]
  },
  {
   "cell_type": "code",
   "execution_count": 2,
   "metadata": {},
   "outputs": [
    {
     "data": {
      "text/plain": [
       "135"
      ]
     },
     "execution_count": 2,
     "metadata": {},
     "output_type": "execute_result"
    }
   ],
   "source": [
    "len(Train_paths)"
   ]
  },
  {
   "cell_type": "code",
   "execution_count": null,
   "metadata": {},
   "outputs": [],
   "source": [
    "count = []\n",
    "for i in num:\n",
    "    if i < 200:\n",
    "        count.append(i)\n",
    "        \n",
    "print(len(count))\n",
    "\n",
    "#making all training images to be 200 per class\n",
    "\n",
    "for i in Train_paths:\n",
    "\n",
    "    length = len(glob(i+\"/\"+\"*\"))\n",
    "    if length > 200:\n",
    "        for file in range(abs(200-length)):\n",
    "            f = random.choice(os.listdir(i))\n",
    "            os.remove(i+\"/\"+f)\n",
    "\n",
    "import shutil\n",
    "\n",
    "#making all test images to be 6 per class\n",
    "\n",
    "for i in Train_paths:\n",
    "\n",
    "    length = len(glob(i+\"/\"+\"*\"))\n",
    "    if length == 200:\n",
    "        pa = i.replace(\"Train\",\"Test\")\n",
    "        testle = len(glob(pa+\"/\"+\"*\"))\n",
    "        for file in range(abs(6-testle)):\n",
    "            f = random.choice(os.listdir(pa))\n",
    "            os.remove(pa+\"/\"+f)\n",
    "\n",
    "\n",
    "#making all training cross validation to be 12 per class\n",
    "\n",
    "for i in Train_paths:\n",
    "\n",
    "    length = len(glob(i+\"/\"+\"*\"))\n",
    "    if length == 200:\n",
    "        pa = i.replace(\"Train\",\"Cross_Validation\")\n",
    "        testle = len(glob(pa+\"/\"+\"*\"))\n",
    "        for file in range(abs(12-testle)):\n",
    "            f = random.choice(os.listdir(pa))\n",
    "            os.remove(pa+\"/\"+f)\n",
    "    \n",
    "\n",
    "#adding extra images from CV and test to train images if the number is less than 200\n",
    "\n",
    "for i in Train_paths:\n",
    "\n",
    "        pa = i.replace(\"Train\",\"Test\")\n",
    "        if len(glob(pa+\"/\"+\"*\")) > 6 and len(glob(i+\"/\"+\"*\")) < 200:\n",
    "            for file in range(abs(6-len(glob(pa+\"/\"+\"*\")))):\n",
    "                f = random.choice(os.listdir(pa))\n",
    "                src = pa+\"/\"+f\n",
    "                shutil.move(src, i)\n",
    "        \n",
    "        "
   ]
  }
 ],
 "metadata": {
  "kernelspec": {
   "display_name": "Python 3",
   "language": "python",
   "name": "python3"
  },
  "language_info": {
   "codemirror_mode": {
    "name": "ipython",
    "version": 3
   },
   "file_extension": ".py",
   "mimetype": "text/x-python",
   "name": "python",
   "nbconvert_exporter": "python",
   "pygments_lexer": "ipython3",
   "version": "3.6.2"
  }
 },
 "nbformat": 4,
 "nbformat_minor": 2
}
