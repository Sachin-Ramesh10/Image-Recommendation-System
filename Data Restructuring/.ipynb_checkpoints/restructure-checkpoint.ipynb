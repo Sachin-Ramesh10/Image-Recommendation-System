{
 "cells": [
  {
   "cell_type": "code",
   "execution_count": null,
   "metadata": {},
   "outputs": [],
   "source": [
    "#restructuring the dataset according to the created classes,reducing number of classes from 791 to 135"
   ]
  },
  {
   "cell_type": "code",
   "execution_count": 19,
   "metadata": {},
   "outputs": [],
   "source": [
    "import csv\n",
    "\n",
    "#loading created classes and related boards saved in \n",
    "\n",
    "classes = {}\n",
    "with open('Classes.csv', 'r', encoding = 'utf-8') as infile:\n",
    "    reader = csv.reader(infile)\n",
    "    for i in reader:\n",
    "        l = i[1].split(\",\")\n",
    "        classes[i[0]] = l"
   ]
  },
  {
   "cell_type": "code",
   "execution_count": 20,
   "metadata": {},
   "outputs": [],
   "source": [
    "from glob import glob\n",
    "import shutil \n",
    "import os \n",
    "\n",
    "#loading data to be restructured\n",
    "\n",
    "tepaths = glob('F:/Docs/Data/Test/*/*')\n",
    "trpaths = glob('F:/Docs/Data/Train/*/*')\n",
    "vapaths = glob('F:/Docs/Data/CrossValidation/*/*')\n",
    "    "
   ]
  },
  {
   "cell_type": "code",
   "execution_count": 53,
   "metadata": {},
   "outputs": [],
   "source": [
    "#innitializng final data paths\n",
    "\n",
    "test_path = \"F:\\\\Final Data\\\\Test\"\n",
    "train_path = \"F:\\\\Final Data\\\\Train\"\n",
    "val_path = \"F:\\\\Final Data\\\\Cross_Validation\"\n",
    "import math\n",
    "\n",
    "def test_images(a,b):\n",
    "    count  = 1000\n",
    "    c_path = test_path + \"\\\\\" + a\n",
    "    if not os.path.exists(c_path):\n",
    "        os.makedirs(c_path)\n",
    "    for cl in b:\n",
    "        for cla in tepaths:\n",
    "            if cla.split(\"\\\\\")[-1] == cl:\n",
    "                p = cla+\"/*\"\n",
    "                for i in glob(p):\n",
    "                    shutil.copy(i,c_path)\n",
    "                    im = c_path+\"\\\\\"+i.split(\"\\\\\")[-1]\n",
    "                    cp = c_path+\"\\\\\"+str(count)+\".jpg\"\n",
    "                    os.rename(im, cp)\n",
    "                    count+=1\n",
    "                    \n",
    "def train_images(a,b):\n",
    "    count  = 3000\n",
    "    c_path = train_path + \"\\\\\" + a\n",
    "    if not os.path.exists(c_path):\n",
    "        os.makedirs(c_path)\n",
    "    for cl in b:\n",
    "        for cla in trpaths:\n",
    "            if cla.split(\"\\\\\")[-1] == cl:\n",
    "                p = cla+\"/*\"\n",
    "                for i in glob(p):\n",
    "                    shutil.copy(i,c_path)\n",
    "                    im = c_path+\"\\\\\"+i.split(\"\\\\\")[-1]\n",
    "                    cp = c_path+\"\\\\\"+str(count)+\".jpg\"\n",
    "                    os.rename(im, cp)\n",
    "                    count+=1\n",
    "    q = c_path+\"/*\"\n",
    "    return len(glob(q))\n",
    "\n",
    "def val_images(a,b,tot):\n",
    "    count  = 2000\n",
    "    c_path = val_path + \"\\\\\" + a\n",
    "    if not os.path.exists(c_path):\n",
    "        os.makedirs(c_path)\n",
    "    for cl in b:\n",
    "        for cla in vapaths:\n",
    "            if cla.split(\"\\\\\")[-1] == cl:\n",
    "                p = cla+\"/*\"\n",
    "                for i in glob(p):\n",
    "                    shutil.copy(i,c_path)\n",
    "                    im = c_path+\"\\\\\"+i.split(\"\\\\\")[-1]\n",
    "                    cp = c_path+\"\\\\\"+str(count)+\".jpg\"\n",
    "                    os.rename(im, cp)\n",
    "                    count+=1\n",
    "    q = c_path+\"/*\"\n",
    "    q1 = len(glob(q))\n",
    "    dif = ((tot+q1)*0.2) - q1\n",
    "    to = math.ceil(3000+dif)\n",
    "    for i in range(3000,to):\n",
    "        src = train_path+\"\\\\\"+a+\"\\\\\"+str(i)+\".jpg\"\n",
    "        des = val_path+\"\\\\\"+a\n",
    "        shutil.move(src,des)\n",
    "        \n",
    "    \n",
    " "
   ]
  },
  {
   "cell_type": "code",
   "execution_count": 55,
   "metadata": {
    "collapsed": true
   },
   "outputs": [
    {
     "name": "stdout",
     "output_type": "stream",
     "text": [
      "Whales ['a-whale-of-a-time', 'dolphins', 'whales', 'marine-mammals']\n",
      "Windmills ['windmills']\n",
      "Wooden Spoons ['wooden-spoons', '3-k-i-t-c-h-e-n']\n",
      "Panther ['f9f-panther', 'black-panther']\n"
     ]
    }
   ],
   "source": [
    "for clas,catg in classes.items():\n",
    "    n = train_path + \"\\\\\"+clas\n",
    "    if not (os.path.isdir(n)):\n",
    "        le = train_images(clas,catg)\n",
    "        test_images(clas,catg)\n",
    "        val_images(clas,catg,le)"
   ]
  },
  {
   "cell_type": "code",
   "execution_count": null,
   "metadata": {},
   "outputs": [],
   "source": []
  }
 ],
 "metadata": {
  "kernelspec": {
   "display_name": "Python 3",
   "language": "python",
   "name": "python3"
  },
  "language_info": {
   "codemirror_mode": {
    "name": "ipython",
    "version": 3
   },
   "file_extension": ".py",
   "mimetype": "text/x-python",
   "name": "python",
   "nbconvert_exporter": "python",
   "pygments_lexer": "ipython3",
   "version": "3.6.2"
  }
 },
 "nbformat": 4,
 "nbformat_minor": 2
}
