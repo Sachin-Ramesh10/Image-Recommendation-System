{
 "cells": [
  {
   "cell_type": "code",
   "execution_count": 10,
   "metadata": {},
   "outputs": [],
   "source": [
    "import sys\n",
    "import argparse\n",
    "import numpy as np\n",
    "from PIL import Image\n",
    "import requests\n",
    "from io import BytesIO\n",
    "import matplotlib\n",
    "matplotlib.use('agg')\n",
    "import matplotlib.pyplot as plt\n",
    "from glob import glob"
   ]
  },
  {
   "cell_type": "code",
   "execution_count": 11,
   "metadata": {},
   "outputs": [],
   "source": [
    "from keras.preprocessing import image\n",
    "from keras.models import load_model\n",
    "from keras.applications.xception import preprocess_input"
   ]
  },
  {
   "cell_type": "code",
   "execution_count": 17,
   "metadata": {},
   "outputs": [],
   "source": [
    "target_size = (299, 299)"
   ]
  },
  {
   "cell_type": "code",
   "execution_count": 13,
   "metadata": {},
   "outputs": [],
   "source": [
    "def predict(model, img, target_size):\n",
    "    \"\"\"Run model prediction on image\n",
    "    Args:\n",
    "        model: keras model\n",
    "        img: PIL format image\n",
    "        target_size: (w,h) tuple\n",
    "    Returns:\n",
    "        list of predicted labels and their probabilities \n",
    "    \"\"\"\n",
    "    if img.size != target_size:\n",
    "        img = img.resize(target_size)\n",
    "\n",
    "    x = image.img_to_array(img)\n",
    "    x = np.expand_dims(x, axis=0)\n",
    "    x = preprocess_input(x)\n",
    "    preds = model.predict(x)\n",
    "    return preds[0]"
   ]
  },
  {
   "cell_type": "code",
   "execution_count": 14,
   "metadata": {},
   "outputs": [],
   "source": [
    "model = load_model('Models/Xception/Xception.model')"
   ]
  },
  {
   "cell_type": "code",
   "execution_count": 20,
   "metadata": {},
   "outputs": [],
   "source": [
    "test_path = glob('Test/*')\n",
    "classes= []\n",
    "for i in test_path:\n",
    "    if i not in classes:\n",
    "        classes.append(i.split(\"/\")[-1])"
   ]
  },
  {
   "cell_type": "code",
   "execution_count": 22,
   "metadata": {},
   "outputs": [
    {
     "name": "stdout",
     "output_type": "stream",
     "text": [
      "Test Accuracy = 33%\n"
     ]
    }
   ],
   "source": [
    "tes_images = glob('Test/*/*')\n",
    "correct = 0\n",
    "len = 0\n",
    "\n",
    "for i in tes_images:\n",
    "    prediction = \"\"\n",
    "    cla = i.split('/')[-2]\n",
    "    img = Image.open(i)\n",
    "    try:\n",
    "        len+=1\n",
    "        preds = predict(model, img, target_size)\n",
    "    except Exception:\n",
    "        len-=1\n",
    "        continue\n",
    "    y_classes = np.argmax(preds)\n",
    "    print\n",
    "    if int(y_classes) > 30 and int(y_classes)!= 134:\n",
    "        prediction = classes[y_classes+1]\n",
    "    else:\n",
    "        prediction = classes[y_classes]\n",
    "    if prediction == cla:\n",
    "        correct+=1\n",
    "print(\"Test Accuracy = {}%\".format(round(float(correct/len)*100)))"
   ]
  },
  {
   "cell_type": "code",
   "execution_count": null,
   "metadata": {},
   "outputs": [],
   "source": []
  }
 ],
 "metadata": {
  "kernelspec": {
   "display_name": "Python 3",
   "language": "python",
   "name": "python3"
  },
  "language_info": {
   "codemirror_mode": {
    "name": "ipython",
    "version": 3
   },
   "file_extension": ".py",
   "mimetype": "text/x-python",
   "name": "python",
   "nbconvert_exporter": "python",
   "pygments_lexer": "ipython3",
   "version": "3.6.2"
  }
 },
 "nbformat": 4,
 "nbformat_minor": 2
}
