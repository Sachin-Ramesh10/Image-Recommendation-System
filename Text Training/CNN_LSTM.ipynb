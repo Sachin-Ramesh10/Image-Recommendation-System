{
 "cells": [
  {
   "cell_type": "code",
   "execution_count": 1,
   "metadata": {},
   "outputs": [],
   "source": [
    "import numpy as np # linear algebra\n",
    "import pandas as pd # data processing, CSV file I/O (e.g. pd.read_csv)"
   ]
  },
  {
   "cell_type": "code",
   "execution_count": 51,
   "metadata": {},
   "outputs": [
    {
     "name": "stdout",
     "output_type": "stream",
     "text": [
      "  Categories                                          Sentences\n",
      "0  Airplanes  The wings of the airplane are just one compone...\n",
      "1  Airplanes  The Wright brothers invented and flew the firs...\n",
      "2  Airplanes  One the most deadly airplane accidents actuall...\n",
      "3  Airplanes  Increases in carbon dioxide in the atmosphere ...\n",
      "4  Airplanes  The oxygen in an airplane’s emergency oxygen m...\n",
      "import done\n"
     ]
    }
   ],
   "source": [
    "df = pd.read_csv('./text.csv',delimiter=',',encoding='utf-8')\n",
    "print(df.head())\n",
    "\n",
    "tags = df.Categories\n",
    "texts = df.Sentences\n",
    "from keras.models import Sequential\n",
    "from keras.layers import Dense, Dropout, Activation\n",
    "from keras.layers import Embedding\n",
    "from keras.layers import Conv1D, GlobalMaxPooling1D\n",
    "from keras.preprocessing.text import Tokenizer\n",
    "from keras.preprocessing import sequence\n",
    "from sklearn.preprocessing import LabelEncoder\n",
    "import time\n",
    "from keras import metrics\n",
    "print('import done')"
   ]
  },
  {
   "cell_type": "code",
   "execution_count": 52,
   "metadata": {},
   "outputs": [
    {
     "name": "stdout",
     "output_type": "stream",
     "text": [
      "[0 0 0 0 0]\n",
      "[[0. 3. 4. ... 0. 0. 0.]\n",
      " [0. 5. 1. ... 0. 0. 0.]\n",
      " [0. 6. 2. ... 0. 0. 0.]\n",
      " [0. 2. 1. ... 0. 0. 0.]\n",
      " [0. 1. 0. ... 0. 0. 0.]]\n",
      "(3171,) (3171, 1000)\n"
     ]
    }
   ],
   "source": [
    "num_max = 1000\n",
    "# preprocess\n",
    "le = LabelEncoder()\n",
    "tags = le.fit_transform(tags)\n",
    "tok = Tokenizer(num_words=num_max)\n",
    "tok.fit_on_texts(texts)\n",
    "mat_texts = tok.texts_to_matrix((texts),mode='count')\n",
    "print(tags[:5])\n",
    "print(mat_texts[:5])\n",
    "print(tags.shape,mat_texts.shape)"
   ]
  },
  {
   "cell_type": "code",
   "execution_count": 53,
   "metadata": {},
   "outputs": [
    {
     "name": "stdout",
     "output_type": "stream",
     "text": [
      "_________________________________________________________________\n",
      "Layer (type)                 Output Shape              Param #   \n",
      "=================================================================\n",
      "dense_4 (Dense)              (None, 512)               512512    \n",
      "_________________________________________________________________\n",
      "dropout_4 (Dropout)          (None, 512)               0         \n",
      "_________________________________________________________________\n",
      "dense_5 (Dense)              (None, 256)               131328    \n",
      "_________________________________________________________________\n",
      "dropout_5 (Dropout)          (None, 256)               0         \n",
      "_________________________________________________________________\n",
      "dense_6 (Dense)              (None, 1)                 257       \n",
      "=================================================================\n",
      "Total params: 644,097\n",
      "Trainable params: 644,097\n",
      "Non-trainable params: 0\n",
      "_________________________________________________________________\n",
      "compile done\n",
      "Train on 2536 samples, validate on 635 samples\n",
      "Epoch 1/10\n",
      "2536/2536 [==============================] - 3s 1ms/step - loss: -267.9061 - acc: 0.0237 - binary_accuracy: 0.0237 - val_loss: -749.7663 - val_acc: 0.0000e+00 - val_binary_accuracy: 0.0000e+00\n",
      "Epoch 2/10\n",
      "2536/2536 [==============================] - 2s 945us/step - loss: -319.1918 - acc: 0.0237 - binary_accuracy: 0.0237 - val_loss: -750.0778 - val_acc: 0.0000e+00 - val_binary_accuracy: 0.0000e+00\n",
      "Epoch 3/10\n",
      "2536/2536 [==============================] - 2s 968us/step - loss: -319.2355 - acc: 0.0237 - binary_accuracy: 0.0237 - val_loss: -750.3735 - val_acc: 0.0000e+00 - val_binary_accuracy: 0.0000e+00\n",
      "Epoch 4/10\n",
      "2536/2536 [==============================] - 2s 944us/step - loss: -319.2374 - acc: 0.0237 - binary_accuracy: 0.0237 - val_loss: -750.4895 - val_acc: 0.0000e+00 - val_binary_accuracy: 0.0000e+00\n",
      "Epoch 5/10\n",
      "2536/2536 [==============================] - 2s 958us/step - loss: -319.2374 - acc: 0.0237 - binary_accuracy: 0.0237 - val_loss: -750.4916 - val_acc: 0.0000e+00 - val_binary_accuracy: 0.0000e+00\n",
      "Epoch 6/10\n",
      "2536/2536 [==============================] - 2s 946us/step - loss: -319.2374 - acc: 0.0237 - binary_accuracy: 0.0237 - val_loss: -750.4916 - val_acc: 0.0000e+00 - val_binary_accuracy: 0.0000e+00\n",
      "Epoch 7/10\n",
      "2536/2536 [==============================] - 2s 953us/step - loss: -319.2374 - acc: 0.0237 - binary_accuracy: 0.0237 - val_loss: -750.4916 - val_acc: 0.0000e+00 - val_binary_accuracy: 0.0000e+00\n",
      "Epoch 8/10\n",
      "2536/2536 [==============================] - 2s 916us/step - loss: -319.2374 - acc: 0.0237 - binary_accuracy: 0.0237 - val_loss: -750.4916 - val_acc: 0.0000e+00 - val_binary_accuracy: 0.0000e+00\n",
      "Epoch 9/10\n",
      "2536/2536 [==============================] - 2s 974us/step - loss: -319.2374 - acc: 0.0237 - binary_accuracy: 0.0237 - val_loss: -750.4916 - val_acc: 0.0000e+00 - val_binary_accuracy: 0.0000e+00\n",
      "Epoch 10/10\n",
      "2536/2536 [==============================] - 3s 1ms/step - loss: -319.2374 - acc: 0.0237 - binary_accuracy: 0.0237 - val_loss: -750.4916 - val_acc: 0.0000e+00 - val_binary_accuracy: 0.0000e+00\n"
     ]
    }
   ],
   "source": [
    "def get_simple_model():\n",
    "    model = Sequential()\n",
    "    model.add(Dense(512, activation='relu', input_shape=(num_max,)))\n",
    "    model.add(Dropout(0.2))\n",
    "    model.add(Dense(256, activation='relu'))\n",
    "    model.add(Dropout(0.2))\n",
    "    model.add(Dense(1, activation='sigmoid'))\n",
    "    model.summary()\n",
    "    model.compile(loss='binary_crossentropy',\n",
    "              optimizer='adam',\n",
    "              metrics=['acc',metrics.binary_accuracy])\n",
    "    print('compile done')\n",
    "    return model\n",
    "\n",
    "def check_model(model,x,y):\n",
    "    model.fit(x,y,batch_size=32,epochs=10,verbose=1,validation_split=0.2)\n",
    "\n",
    "m = get_simple_model()\n",
    "check_model(m,mat_texts,tags)"
   ]
  },
  {
   "cell_type": "code",
   "execution_count": 56,
   "metadata": {},
   "outputs": [
    {
     "name": "stdout",
     "output_type": "stream",
     "text": [
      "[1, 992, 2, 1, 768, 8, 175, 39, 2, 359, 51, 8, 271, 196, 2, 359, 11, 1, 537, 43, 111, 504, 17, 906, 15, 111, 91, 196, 2, 359, 8, 3, 769]\n",
      "[  0   0   0   0   0   0   0   0   0   0   0   0   0   0   0   0   0   0\n",
      "   0   0   0   0   0   0   0   0   0   0   0   0   0   0   0   0   0   0\n",
      "   0   0   0   0   0   0   0   0   0   0   0   0   0   0   0   0   0   0\n",
      "   0   0   0   0   0   0   0   0   0   0   0   0   0   1 992   2   1 768\n",
      "   8 175  39   2 359  51   8 271 196   2 359  11   1 537  43 111 504  17\n",
      " 906  15 111  91 196   2 359   8   3 769]\n",
      "(3171, 100)\n"
     ]
    }
   ],
   "source": [
    "max_len = 100\n",
    "cnn_texts_seq = tok.texts_to_sequences(texts)\n",
    "print(cnn_texts_seq[0])\n",
    "cnn_texts_mat = sequence.pad_sequences(cnn_texts_seq,maxlen=max_len)\n",
    "print(cnn_texts_mat[0])\n",
    "print(cnn_texts_mat.shape)"
   ]
  },
  {
   "cell_type": "code",
   "execution_count": 57,
   "metadata": {},
   "outputs": [
    {
     "name": "stdout",
     "output_type": "stream",
     "text": [
      "_________________________________________________________________\n",
      "Layer (type)                 Output Shape              Param #   \n",
      "=================================================================\n",
      "embedding_4 (Embedding)      (None, 100, 20)           20000     \n",
      "_________________________________________________________________\n",
      "dropout_10 (Dropout)         (None, 100, 20)           0         \n",
      "_________________________________________________________________\n",
      "conv1d_3 (Conv1D)            (None, 98, 64)            3904      \n",
      "_________________________________________________________________\n",
      "global_max_pooling1d_3 (Glob (None, 64)                0         \n",
      "_________________________________________________________________\n",
      "dense_11 (Dense)             (None, 256)               16640     \n",
      "_________________________________________________________________\n",
      "dropout_11 (Dropout)         (None, 256)               0         \n",
      "_________________________________________________________________\n",
      "activation_7 (Activation)    (None, 256)               0         \n",
      "_________________________________________________________________\n",
      "dense_12 (Dense)             (None, 1)                 257       \n",
      "_________________________________________________________________\n",
      "activation_8 (Activation)    (None, 1)                 0         \n",
      "=================================================================\n",
      "Total params: 40,801\n",
      "Trainable params: 40,801\n",
      "Non-trainable params: 0\n",
      "_________________________________________________________________\n",
      "Train on 2536 samples, validate on 635 samples\n",
      "Epoch 1/10\n",
      "2536/2536 [==============================] - 4s 1ms/step - loss: -177.4020 - acc: 0.0237 - binary_accuracy: 0.0237 - val_loss: -750.8988 - val_acc: 0.0000e+00 - val_binary_accuracy: 0.0000e+00\n",
      "Epoch 2/10\n",
      "2536/2536 [==============================] - 2s 818us/step - loss: -319.2374 - acc: 0.0237 - binary_accuracy: 0.0237 - val_loss: -750.8988 - val_acc: 0.0000e+00 - val_binary_accuracy: 0.0000e+00\n",
      "Epoch 3/10\n",
      "2536/2536 [==============================] - 2s 833us/step - loss: -319.2374 - acc: 0.0237 - binary_accuracy: 0.0237 - val_loss: -750.8988 - val_acc: 0.0000e+00 - val_binary_accuracy: 0.0000e+00\n",
      "Epoch 4/10\n",
      "2536/2536 [==============================] - 2s 954us/step - loss: -319.2374 - acc: 0.0237 - binary_accuracy: 0.0237 - val_loss: -750.8988 - val_acc: 0.0000e+00 - val_binary_accuracy: 0.0000e+00\n",
      "Epoch 5/10\n",
      "2536/2536 [==============================] - 2s 785us/step - loss: -319.2374 - acc: 0.0237 - binary_accuracy: 0.0237 - val_loss: -750.8988 - val_acc: 0.0000e+00 - val_binary_accuracy: 0.0000e+00\n",
      "Epoch 6/10\n",
      "2536/2536 [==============================] - 2s 849us/step - loss: -319.2374 - acc: 0.0237 - binary_accuracy: 0.0237 - val_loss: -750.8988 - val_acc: 0.0000e+00 - val_binary_accuracy: 0.0000e+00\n",
      "Epoch 7/10\n",
      "2536/2536 [==============================] - 2s 950us/step - loss: -319.2374 - acc: 0.0237 - binary_accuracy: 0.0237 - val_loss: -750.8988 - val_acc: 0.0000e+00 - val_binary_accuracy: 0.0000e+00\n",
      "Epoch 8/10\n",
      "2536/2536 [==============================] - 2s 782us/step - loss: -319.2374 - acc: 0.0237 - binary_accuracy: 0.0237 - val_loss: -750.8988 - val_acc: 0.0000e+00 - val_binary_accuracy: 0.0000e+00\n",
      "Epoch 9/10\n",
      "2536/2536 [==============================] - 2s 904us/step - loss: -319.2374 - acc: 0.0237 - binary_accuracy: 0.0237 - val_loss: -750.8988 - val_acc: 0.0000e+00 - val_binary_accuracy: 0.0000e+00\n",
      "Epoch 10/10\n",
      "2536/2536 [==============================] - 2s 961us/step - loss: -319.2374 - acc: 0.0237 - binary_accuracy: 0.0237 - val_loss: -750.8988 - val_acc: 0.0000e+00 - val_binary_accuracy: 0.0000e+00\n"
     ]
    }
   ],
   "source": [
    "def get_cnn_model_v1():   \n",
    "    model = Sequential()\n",
    "    # we start off with an efficient embedding layer which maps\n",
    "    # our vocab indices into embedding_dims dimensions\n",
    "    # 1000 is num_max\n",
    "    model.add(Embedding(1000,\n",
    "                        20,\n",
    "                        input_length=max_len))\n",
    "    model.add(Dropout(0.2))\n",
    "    model.add(Conv1D(64,\n",
    "                     3,\n",
    "                     padding='valid',\n",
    "                     activation='relu',\n",
    "                     strides=1))\n",
    "    model.add(GlobalMaxPooling1D())\n",
    "    model.add(Dense(256))\n",
    "    model.add(Dropout(0.2))\n",
    "    model.add(Activation('relu'))\n",
    "    model.add(Dense(1))\n",
    "    model.add(Activation('sigmoid'))\n",
    "    model.summary()\n",
    "    model.compile(loss='binary_crossentropy',\n",
    "                  optimizer='adam',\n",
    "                  metrics=['acc',metrics.binary_accuracy])\n",
    "    return model\n",
    "\n",
    "m = get_cnn_model_v1()\n",
    "check_model(m,cnn_texts_mat,tags)"
   ]
  },
  {
   "cell_type": "code",
   "execution_count": 59,
   "metadata": {},
   "outputs": [],
   "source": [
    "import pandas as pd\n",
    "import numpy as np\n",
    "import matplotlib.pyplot as plt\n",
    "import seaborn as sns\n",
    "from sklearn.model_selection import train_test_split\n",
    "from sklearn.preprocessing import LabelEncoder\n",
    "from keras.models import Model\n",
    "from keras.layers import LSTM, Activation, Dense, Dropout, Input, Embedding\n",
    "from keras.optimizers import RMSprop\n",
    "from keras.preprocessing.text import Tokenizer\n",
    "from keras.preprocessing import sequence\n",
    "from keras.utils import to_categorical\n",
    "from keras.callbacks import EarlyStopping\n",
    "%matplotlib inline"
   ]
  },
  {
   "cell_type": "code",
   "execution_count": 60,
   "metadata": {},
   "outputs": [
    {
     "data": {
      "text/html": [
       "<div>\n",
       "<style scoped>\n",
       "    .dataframe tbody tr th:only-of-type {\n",
       "        vertical-align: middle;\n",
       "    }\n",
       "\n",
       "    .dataframe tbody tr th {\n",
       "        vertical-align: top;\n",
       "    }\n",
       "\n",
       "    .dataframe thead th {\n",
       "        text-align: right;\n",
       "    }\n",
       "</style>\n",
       "<table border=\"1\" class=\"dataframe\">\n",
       "  <thead>\n",
       "    <tr style=\"text-align: right;\">\n",
       "      <th></th>\n",
       "      <th>Categories</th>\n",
       "      <th>Sentences</th>\n",
       "    </tr>\n",
       "  </thead>\n",
       "  <tbody>\n",
       "    <tr>\n",
       "      <th>0</th>\n",
       "      <td>Airplanes</td>\n",
       "      <td>The wings of the airplane are just one compone...</td>\n",
       "    </tr>\n",
       "    <tr>\n",
       "      <th>1</th>\n",
       "      <td>Airplanes</td>\n",
       "      <td>The Wright brothers invented and flew the firs...</td>\n",
       "    </tr>\n",
       "    <tr>\n",
       "      <th>2</th>\n",
       "      <td>Airplanes</td>\n",
       "      <td>One the most deadly airplane accidents actuall...</td>\n",
       "    </tr>\n",
       "    <tr>\n",
       "      <th>3</th>\n",
       "      <td>Airplanes</td>\n",
       "      <td>Increases in carbon dioxide in the atmosphere ...</td>\n",
       "    </tr>\n",
       "    <tr>\n",
       "      <th>4</th>\n",
       "      <td>Airplanes</td>\n",
       "      <td>The oxygen in an airplane’s emergency oxygen m...</td>\n",
       "    </tr>\n",
       "  </tbody>\n",
       "</table>\n",
       "</div>"
      ],
      "text/plain": [
       "  Categories                                          Sentences\n",
       "0  Airplanes  The wings of the airplane are just one compone...\n",
       "1  Airplanes  The Wright brothers invented and flew the firs...\n",
       "2  Airplanes  One the most deadly airplane accidents actuall...\n",
       "3  Airplanes  Increases in carbon dioxide in the atmosphere ...\n",
       "4  Airplanes  The oxygen in an airplane’s emergency oxygen m..."
      ]
     },
     "execution_count": 60,
     "metadata": {},
     "output_type": "execute_result"
    }
   ],
   "source": [
    "df = pd.read_csv('./text.csv',delimiter=',',encoding='utf-8')\n",
    "df.head()"
   ]
  },
  {
   "cell_type": "code",
   "execution_count": 61,
   "metadata": {},
   "outputs": [
    {
     "name": "stdout",
     "output_type": "stream",
     "text": [
      "<class 'pandas.core.frame.DataFrame'>\n",
      "RangeIndex: 3171 entries, 0 to 3170\n",
      "Data columns (total 2 columns):\n",
      "Categories    3171 non-null object\n",
      "Sentences     3171 non-null object\n",
      "dtypes: object(2)\n",
      "memory usage: 49.6+ KB\n"
     ]
    }
   ],
   "source": [
    "df.info()"
   ]
  },
  {
   "cell_type": "code",
   "execution_count": 62,
   "metadata": {},
   "outputs": [
    {
     "data": {
      "text/plain": [
       "[<matplotlib.text.Text at 0x22c2a67cd30>,\n",
       " <matplotlib.text.Text at 0x22c2a6812b0>,\n",
       " <matplotlib.text.Text at 0x22c2a837358>,\n",
       " <matplotlib.text.Text at 0x22c2a837d30>,\n",
       " <matplotlib.text.Text at 0x22c2a83e748>,\n",
       " <matplotlib.text.Text at 0x22c2a842160>,\n",
       " <matplotlib.text.Text at 0x22c2a842b38>,\n",
       " <matplotlib.text.Text at 0x22c2a848550>,\n",
       " <matplotlib.text.Text at 0x22c2a848f28>,\n",
       " <matplotlib.text.Text at 0x22c2a851940>,\n",
       " <matplotlib.text.Text at 0x22c2a856358>,\n",
       " <matplotlib.text.Text at 0x22c2a856d30>,\n",
       " <matplotlib.text.Text at 0x22c2a85c748>,\n",
       " <matplotlib.text.Text at 0x22c2a863160>,\n",
       " <matplotlib.text.Text at 0x22c2a863b38>,\n",
       " <matplotlib.text.Text at 0x22c2a868550>,\n",
       " <matplotlib.text.Text at 0x22c2a868f28>,\n",
       " <matplotlib.text.Text at 0x22c2a870940>,\n",
       " <matplotlib.text.Text at 0x22c2a876358>,\n",
       " <matplotlib.text.Text at 0x22c2a876d30>,\n",
       " <matplotlib.text.Text at 0x22c2a87d748>,\n",
       " <matplotlib.text.Text at 0x22c2a884160>,\n",
       " <matplotlib.text.Text at 0x22c2a884b38>,\n",
       " <matplotlib.text.Text at 0x22c2a889550>,\n",
       " <matplotlib.text.Text at 0x22c2a889f28>,\n",
       " <matplotlib.text.Text at 0x22c2a894940>,\n",
       " <matplotlib.text.Text at 0x22c2a89a358>,\n",
       " <matplotlib.text.Text at 0x22c2a89ad30>,\n",
       " <matplotlib.text.Text at 0x22c2a89d748>,\n",
       " <matplotlib.text.Text at 0x22c2a8a6160>,\n",
       " <matplotlib.text.Text at 0x22c2a8a6b38>,\n",
       " <matplotlib.text.Text at 0x22c2a8ab550>,\n",
       " <matplotlib.text.Text at 0x22c2a8abf28>,\n",
       " <matplotlib.text.Text at 0x22c2a8b3940>,\n",
       " <matplotlib.text.Text at 0x22c2a8b9358>,\n",
       " <matplotlib.text.Text at 0x22c2a8b9d30>,\n",
       " <matplotlib.text.Text at 0x22c2a8bd748>,\n",
       " <matplotlib.text.Text at 0x22c2a8c7160>,\n",
       " <matplotlib.text.Text at 0x22c2a8c7b38>,\n",
       " <matplotlib.text.Text at 0x22c2a8ce550>,\n",
       " <matplotlib.text.Text at 0x22c2a8cef28>,\n",
       " <matplotlib.text.Text at 0x22c2a8d3940>,\n",
       " <matplotlib.text.Text at 0x22c2a8da358>,\n",
       " <matplotlib.text.Text at 0x22c2a8dad30>,\n",
       " <matplotlib.text.Text at 0x22c2a8df748>,\n",
       " <matplotlib.text.Text at 0x22c2a8e7160>,\n",
       " <matplotlib.text.Text at 0x22c2a8e7b38>,\n",
       " <matplotlib.text.Text at 0x22c2a8ee550>,\n",
       " <matplotlib.text.Text at 0x22c2a8eef28>,\n",
       " <matplotlib.text.Text at 0x22c2a8f4940>,\n",
       " <matplotlib.text.Text at 0x22c2a8fd358>,\n",
       " <matplotlib.text.Text at 0x22c2a8fdd30>,\n",
       " <matplotlib.text.Text at 0x22c2a902748>,\n",
       " <matplotlib.text.Text at 0x22c2a908160>]"
      ]
     },
     "execution_count": 62,
     "metadata": {},
     "output_type": "execute_result"
    },
    {
     "data": {
      "image/png": "[encoded data removed]",
      "text/plain": [
       "<matplotlib.figure.Figure at 0x22c23f509b0>"
      ]
     },
     "metadata": {},
     "output_type": "display_data"
    }
   ],
   "source": [
    "fig, ax = plt.subplots()\n",
    "fig.set_size_inches(15, 8)\n",
    "g = sns.countplot(df.Categories,ax=ax)\n",
    "g.set_xticklabels(df.Categories.unique(),rotation=90)\n"
   ]
  },
  {
   "cell_type": "code",
   "execution_count": 63,
   "metadata": {},
   "outputs": [],
   "source": [
    "X = df.Categories\n",
    "Y = df.Sentences\n",
    "le = LabelEncoder()\n",
    "Y = le.fit_transform(Y)\n",
    "Y = Y.reshape(-1,1)"
   ]
  },
  {
   "cell_type": "code",
   "execution_count": 64,
   "metadata": {},
   "outputs": [],
   "source": [
    "X_train,X_test,Y_train,Y_test = train_test_split(X,Y,test_size=0.15)"
   ]
  },
  {
   "cell_type": "code",
   "execution_count": 65,
   "metadata": {},
   "outputs": [
    {
     "data": {
      "text/plain": [
       "numpy.ndarray"
      ]
     },
     "execution_count": 65,
     "metadata": {},
     "output_type": "execute_result"
    }
   ],
   "source": [
    "type(Y_train)"
   ]
  },
  {
   "cell_type": "code",
   "execution_count": 66,
   "metadata": {},
   "outputs": [],
   "source": [
    "max_words = 1000\n",
    "max_len = 150\n",
    "tok = Tokenizer(num_words=max_words)\n",
    "tok.fit_on_texts(X_train)\n",
    "sequences = tok.texts_to_sequences(X_train)\n",
    "sequences_matrix = sequence.pad_sequences(sequences,maxlen=max_len)"
   ]
  },
  {
   "cell_type": "code",
   "execution_count": 67,
   "metadata": {},
   "outputs": [],
   "source": [
    "def RNN():\n",
    "    inputs = Input(name='inputs',shape=[max_len])\n",
    "    layer = Embedding(max_words,50,input_length=max_len)(inputs)\n",
    "    layer = LSTM(64)(layer)\n",
    "    layer = Dense(256,name='FC1')(layer)\n",
    "    layer = Activation('relu')(layer)\n",
    "    layer = Dropout(0.5)(layer)\n",
    "    layer = Dense(1,name='out_layer')(layer)\n",
    "    layer = Activation('sigmoid')(layer)\n",
    "    model = Model(inputs=inputs,outputs=layer)\n",
    "    return model"
   ]
  },
  {
   "cell_type": "code",
   "execution_count": 68,
   "metadata": {},
   "outputs": [
    {
     "name": "stdout",
     "output_type": "stream",
     "text": [
      "_________________________________________________________________\n",
      "Layer (type)                 Output Shape              Param #   \n",
      "=================================================================\n",
      "inputs (InputLayer)          (None, 150)               0         \n",
      "_________________________________________________________________\n",
      "embedding_5 (Embedding)      (None, 150, 50)           50000     \n",
      "_________________________________________________________________\n",
      "lstm_2 (LSTM)                (None, 64)                29440     \n",
      "_________________________________________________________________\n",
      "FC1 (Dense)                  (None, 256)               16640     \n",
      "_________________________________________________________________\n",
      "activation_9 (Activation)    (None, 256)               0         \n",
      "_________________________________________________________________\n",
      "dropout_12 (Dropout)         (None, 256)               0         \n",
      "_________________________________________________________________\n",
      "out_layer (Dense)            (None, 1)                 257       \n",
      "_________________________________________________________________\n",
      "activation_10 (Activation)   (None, 1)                 0         \n",
      "=================================================================\n",
      "Total params: 96,337\n",
      "Trainable params: 96,337\n",
      "Non-trainable params: 0\n",
      "_________________________________________________________________\n"
     ]
    }
   ],
   "source": [
    "model = RNN()\n",
    "model.summary()\n",
    "model.compile(loss='binary_crossentropy',optimizer=RMSprop(),metrics=['accuracy'])"
   ]
  },
  {
   "cell_type": "code",
   "execution_count": 70,
   "metadata": {},
   "outputs": [
    {
     "name": "stdout",
     "output_type": "stream",
     "text": [
      "Train on 2156 samples, validate on 539 samples\n",
      "Epoch 1/10\n",
      "2156/2156 [==============================] - 6s 3ms/step - loss: -24677.3030 - acc: 0.0000e+00 - val_loss: -24859.5019 - val_acc: 0.0019\n",
      "Epoch 2/10\n",
      "2156/2156 [==============================] - 6s 3ms/step - loss: -24676.7958 - acc: 0.0000e+00 - val_loss: -24859.5019 - val_acc: 0.0019\n"
     ]
    },
    {
     "data": {
      "text/plain": [
       "<keras.callbacks.History at 0x22c2be5ecc0>"
      ]
     },
     "execution_count": 70,
     "metadata": {},
     "output_type": "execute_result"
    }
   ],
   "source": [
    "model.fit(sequences_matrix,Y_train,batch_size=128,epochs=10,\n",
    "          validation_split=0.2,callbacks=[EarlyStopping(monitor='val_loss',min_delta=0.0001)])"
   ]
  },
  {
   "cell_type": "code",
   "execution_count": null,
   "metadata": {},
   "outputs": [],
   "source": [
    "import tflearn\n",
    "model = tflearn.DNN(net, tensorboard_dir='tflearn_logs')\n",
    "mode.summary()"
   ]
  }
 ],
 "metadata": {
  "kernelspec": {
   "display_name": "Python 3",
   "language": "python",
   "name": "python3"
  },
  "language_info": {
   "codemirror_mode": {
    "name": "ipython",
    "version": 3
   },
   "file_extension": ".py",
   "mimetype": "text/x-python",
   "name": "python",
   "nbconvert_exporter": "python",
   "pygments_lexer": "ipython3",
   "version": "3.6.2"
  }
 },
 "nbformat": 4,
 "nbformat_minor": 2
}
